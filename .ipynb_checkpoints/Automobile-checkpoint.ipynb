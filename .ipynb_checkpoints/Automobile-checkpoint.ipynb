{
 "cells": [
  {
   "cell_type": "markdown",
   "metadata": {},
   "source": [
    "# Importing libraries\n",
    "\n",
    "In this project, we need the following libraries to perform regression analysis."
   ]
  },
  {
   "cell_type": "code",
   "execution_count": 43,
   "metadata": {},
   "outputs": [],
   "source": [
    "import pandas as pd\n",
    "import numpy as np\n",
    "import statsmodels.formula.api as smf\n",
    "import matplotlib.pyplot as plt\n",
    "from statsmodels.stats.outliers_influence import OLSInfluence\n",
    "import statsmodels.api as sm\n",
    "from statsmodels.stats.outliers_influence import variance_inflation_factor as vif"
   ]
  },
  {
   "cell_type": "markdown",
   "metadata": {},
   "source": [
    "# Import Dataset\n",
    "\n",
    "The dataset we are going to use is Automobils which consists of following variables:\n",
    "- mpg (Miles per Gallon) (numerical)\n",
    "- cylinders (numerical)\n",
    "- displacement (numerical)\n",
    "- horsepower (numerical)\n",
    "- weight (numerical)\n",
    "- model year (numerical)\n",
    "- origin (categorical)\n",
    "- car name (categorical)\n",
    "\n"
   ]
  },
  {
   "cell_type": "code",
   "execution_count": 27,
   "metadata": {},
   "outputs": [],
   "source": [
    "columns=['mpg','cylinders','displacement','horsepower',\n",
    "         'weight','acceleration','model year','origin','car name']\n",
    "data=pd.read_table('auto-mpg.data',sep='\\s+',header=None,names=columns)\n",
    "data.drop(data[data['horsepower']=='?'].index,inplace=True)\n",
    "data.reset_index(inplace=True)"
   ]
  },
  {
   "cell_type": "markdown",
   "metadata": {},
   "source": [
    "# Convert continuous data type to float\n",
    "In order to perform regression analysis, we need to convert the following numerical variable from \"object\" type to \"float\""
   ]
  },
  {
   "cell_type": "code",
   "execution_count": 30,
   "metadata": {},
   "outputs": [],
   "source": [
    "cont_columns=['mpg','displacement','horsepower','weight','acceleration']\n",
    "for x in cont_columns:\n",
    "    data[f'{x}']=data[f'{x}'].astype('float64')"
   ]
  },
  {
   "cell_type": "code",
   "execution_count": 32,
   "metadata": {},
   "outputs": [
    {
     "name": "stdout",
     "output_type": "stream",
     "text": [
      "horsepower R-Squared 0.722696751235987\n",
      "weight R-Squared 0.7647695067184049\n",
      "acceleration R-Squared 0.21647947536252077\n"
     ]
    }
   ],
   "source": [
    "for x in cont_columns[2:]:\n",
    "    print(x+' R-Squared',smf.ols(f'np.log(mpg) ~ np.log({x})',data=data).fit().rsquared)\n"
   ]
  },
  {
   "cell_type": "markdown",
   "metadata": {},
   "source": [
    "# Simple Linear Regression Analysis\n",
    "\n",
    "Now we're ready to do a regression, we have a list of potential numerical variables named \"cont_columns\". To obtain a good model, we choose the one with the highest R-Squared (Coefficient of Determination) of the relationship between mpg and other variables. \n",
    "\n",
    "We obtain that the model with \"weight\" as the x variable and \"mpg\" as the reponse variable gives the highest R-Squared of 0.76476950671. The reason we use logarithm transformation is to ensure and improve the linear relationship between x and y variables.\n"
   ]
  },
  {
   "cell_type": "code",
   "execution_count": 33,
   "metadata": {},
   "outputs": [
    {
     "data": {
      "text/html": [
       "<table class=\"simpletable\">\n",
       "<caption>OLS Regression Results</caption>\n",
       "<tr>\n",
       "  <th>Dep. Variable:</th>       <td>np.log(mpg)</td>   <th>  R-squared:         </th> <td>   0.765</td> \n",
       "</tr>\n",
       "<tr>\n",
       "  <th>Model:</th>                   <td>OLS</td>       <th>  Adj. R-squared:    </th> <td>   0.764</td> \n",
       "</tr>\n",
       "<tr>\n",
       "  <th>Method:</th>             <td>Least Squares</td>  <th>  F-statistic:       </th> <td>   1268.</td> \n",
       "</tr>\n",
       "<tr>\n",
       "  <th>Date:</th>             <td>Fri, 04 Jun 2021</td> <th>  Prob (F-statistic):</th> <td>1.27e-124</td>\n",
       "</tr>\n",
       "<tr>\n",
       "  <th>Time:</th>                 <td>16:28:28</td>     <th>  Log-Likelihood:    </th> <td>  150.77</td> \n",
       "</tr>\n",
       "<tr>\n",
       "  <th>No. Observations:</th>      <td>   392</td>      <th>  AIC:               </th> <td>  -297.5</td> \n",
       "</tr>\n",
       "<tr>\n",
       "  <th>Df Residuals:</th>          <td>   390</td>      <th>  BIC:               </th> <td>  -289.6</td> \n",
       "</tr>\n",
       "<tr>\n",
       "  <th>Df Model:</th>              <td>     1</td>      <th>                     </th>     <td> </td>    \n",
       "</tr>\n",
       "<tr>\n",
       "  <th>Covariance Type:</th>      <td>nonrobust</td>    <th>                     </th>     <td> </td>    \n",
       "</tr>\n",
       "</table>\n",
       "<table class=\"simpletable\">\n",
       "<tr>\n",
       "         <td></td>           <th>coef</th>     <th>std err</th>      <th>t</th>      <th>P>|t|</th>  <th>[0.025</th>    <th>0.975]</th>  \n",
       "</tr>\n",
       "<tr>\n",
       "  <th>Intercept</th>      <td>   11.5152</td> <td>    0.237</td> <td>   48.686</td> <td> 0.000</td> <td>   11.050</td> <td>   11.980</td>\n",
       "</tr>\n",
       "<tr>\n",
       "  <th>np.log(weight)</th> <td>   -1.0575</td> <td>    0.030</td> <td>  -35.608</td> <td> 0.000</td> <td>   -1.116</td> <td>   -0.999</td>\n",
       "</tr>\n",
       "</table>\n",
       "<table class=\"simpletable\">\n",
       "<tr>\n",
       "  <th>Omnibus:</th>       <td>11.449</td> <th>  Durbin-Watson:     </th> <td>   0.772</td>\n",
       "</tr>\n",
       "<tr>\n",
       "  <th>Prob(Omnibus):</th> <td> 0.003</td> <th>  Jarque-Bera (JB):  </th> <td>  14.082</td>\n",
       "</tr>\n",
       "<tr>\n",
       "  <th>Skew:</th>          <td> 0.290</td> <th>  Prob(JB):          </th> <td>0.000875</td>\n",
       "</tr>\n",
       "<tr>\n",
       "  <th>Kurtosis:</th>      <td> 3.725</td> <th>  Cond. No.          </th> <td>    229.</td>\n",
       "</tr>\n",
       "</table><br/><br/>Notes:<br/>[1] Standard Errors assume that the covariance matrix of the errors is correctly specified."
      ],
      "text/plain": [
       "<class 'statsmodels.iolib.summary.Summary'>\n",
       "\"\"\"\n",
       "                            OLS Regression Results                            \n",
       "==============================================================================\n",
       "Dep. Variable:            np.log(mpg)   R-squared:                       0.765\n",
       "Model:                            OLS   Adj. R-squared:                  0.764\n",
       "Method:                 Least Squares   F-statistic:                     1268.\n",
       "Date:                Fri, 04 Jun 2021   Prob (F-statistic):          1.27e-124\n",
       "Time:                        16:28:28   Log-Likelihood:                 150.77\n",
       "No. Observations:                 392   AIC:                            -297.5\n",
       "Df Residuals:                     390   BIC:                            -289.6\n",
       "Df Model:                           1                                         \n",
       "Covariance Type:            nonrobust                                         \n",
       "==================================================================================\n",
       "                     coef    std err          t      P>|t|      [0.025      0.975]\n",
       "----------------------------------------------------------------------------------\n",
       "Intercept         11.5152      0.237     48.686      0.000      11.050      11.980\n",
       "np.log(weight)    -1.0575      0.030    -35.608      0.000      -1.116      -0.999\n",
       "==============================================================================\n",
       "Omnibus:                       11.449   Durbin-Watson:                   0.772\n",
       "Prob(Omnibus):                  0.003   Jarque-Bera (JB):               14.082\n",
       "Skew:                           0.290   Prob(JB):                     0.000875\n",
       "Kurtosis:                       3.725   Cond. No.                         229.\n",
       "==============================================================================\n",
       "\n",
       "Notes:\n",
       "[1] Standard Errors assume that the covariance matrix of the errors is correctly specified.\n",
       "\"\"\""
      ]
     },
     "execution_count": 33,
     "metadata": {},
     "output_type": "execute_result"
    }
   ],
   "source": [
    "m1=smf.ols('np.log(mpg) ~ np.log(weight)',data=data).fit()\n",
    "m1.summary()"
   ]
  },
  {
   "cell_type": "markdown",
   "metadata": {},
   "source": [
    "It turns out that the intercept and weight variables are statistically significant with p-value ~ 0"
   ]
  },
  {
   "cell_type": "markdown",
   "metadata": {},
   "source": [
    "# Scatter plot of mpg vs weight with linear line imposed"
   ]
  },
  {
   "cell_type": "code",
   "execution_count": 34,
   "metadata": {},
   "outputs": [
    {
     "data": {
      "text/plain": [
       "Text(0, 0.5, 'mpg')"
      ]
     },
     "execution_count": 34,
     "metadata": {},
     "output_type": "execute_result"
    },
    {
     "data": {
      "image/png": "[encoded data removed]",
      "text/plain": [
       "<Figure size 432x288 with 1 Axes>"
      ]
     },
     "metadata": {
      "needs_background": "light"
     },
     "output_type": "display_data"
    }
   ],
   "source": [
    "plt.scatter(np.log(data['weight']),np.log(data['mpg']))\n",
    "plt.plot(np.log(data['weight']),m1.predict(),color='r')\n",
    "plt.title('Plot of MPG ~ Weight (Log Transformed)')\n",
    "plt.xlabel('weight')\n",
    "plt.ylabel('mpg')"
   ]
  },
  {
   "cell_type": "markdown",
   "metadata": {},
   "source": [
    "# Conduct a 95% confidence interval on beta1\n",
    "\n",
    "This shows that whether or not the beta is different from 0. If so, beta1 is significant, else it's not and we should consider drop it and consider other predictor variable"
   ]
  },
  {
   "cell_type": "code",
   "execution_count": 35,
   "metadata": {},
   "outputs": [
    {
     "data": {
      "text/html": [
       "<div>\n",
       "<style scoped>\n",
       "    .dataframe tbody tr th:only-of-type {\n",
       "        vertical-align: middle;\n",
       "    }\n",
       "\n",
       "    .dataframe tbody tr th {\n",
       "        vertical-align: top;\n",
       "    }\n",
       "\n",
       "    .dataframe thead th {\n",
       "        text-align: right;\n",
       "    }\n",
       "</style>\n",
       "<table border=\"1\" class=\"dataframe\">\n",
       "  <thead>\n",
       "    <tr style=\"text-align: right;\">\n",
       "      <th></th>\n",
       "      <th>0</th>\n",
       "      <th>1</th>\n",
       "    </tr>\n",
       "  </thead>\n",
       "  <tbody>\n",
       "    <tr>\n",
       "      <th>Intercept</th>\n",
       "      <td>11.050180</td>\n",
       "      <td>11.980214</td>\n",
       "    </tr>\n",
       "    <tr>\n",
       "      <th>np.log(weight)</th>\n",
       "      <td>-1.115895</td>\n",
       "      <td>-0.999118</td>\n",
       "    </tr>\n",
       "  </tbody>\n",
       "</table>\n",
       "</div>"
      ],
      "text/plain": [
       "                        0          1\n",
       "Intercept       11.050180  11.980214\n",
       "np.log(weight)  -1.115895  -0.999118"
      ]
     },
     "execution_count": 35,
     "metadata": {},
     "output_type": "execute_result"
    }
   ],
   "source": [
    "m1.conf_int(alpha=0.05)"
   ]
  },
  {
   "cell_type": "markdown",
   "metadata": {},
   "source": [
    "Once we obtain the confidence interval of the model, we can superimpose the lower bound and the upper bound of the interval"
   ]
  },
  {
   "cell_type": "code",
   "execution_count": 37,
   "metadata": {},
   "outputs": [
    {
     "data": {
      "text/plain": [
       "Text(0, 0.5, 'mpg')"
      ]
     },
     "execution_count": 37,
     "metadata": {},
     "output_type": "execute_result"
    },
    {
     "data": {
      "image/png": "[encoded data removed]",
      "text/plain": [
       "<Figure size 432x288 with 1 Axes>"
      ]
     },
     "metadata": {
      "needs_background": "light"
     },
     "output_type": "display_data"
    }
   ],
   "source": [
    "lower_bound=m1.conf_int(alpha=0.1)[0]['Intercept']+np.log(data['weight'])*m1.conf_int(alpha=0.1)[0]['np.log(weight)']\n",
    "upper_bound=m1.conf_int(alpha=0.1)[1]['Intercept']+np.log(data['weight'])*m1.conf_int(alpha=0.1)[1]['np.log(weight)']\n",
    "\n",
    "plt.scatter(np.log(data['weight']),np.log(data['mpg']))\n",
    "plt.plot(np.log(data['weight']),m1.predict(),color='r')\n",
    "plt.plot(np.log(data['weight']),lower_bound,color='b',linestyle='dashed')\n",
    "plt.plot(np.log(data['weight']),upper_bound,color='b',linestyle='dashed')\n",
    "plt.title('Plot of MPG ~ Weight (Log Transformed)')\n",
    "plt.xlabel('weight')\n",
    "plt.ylabel('mpg')"
   ]
  },
  {
   "cell_type": "markdown",
   "metadata": {},
   "source": [
    "# Residual plot and Normal Probability plot of the model\n",
    "\n",
    "To ensure we don't violate any of the conditions of a linear model, we use residual plot and normal probability plot to satisfy Linearity, Independence, Equal variance, and Normal population assumptions\n",
    "\n",
    "If the residual plot shows no visible patterns and normal probability plot shows an approximately linear line. This model satisfies all the assumptions"
   ]
  },
  {
   "cell_type": "code",
   "execution_count": 38,
   "metadata": {},
   "outputs": [
    {
     "data": {
      "text/plain": [
       "Text(0, 0.5, 'Residual')"
      ]
     },
     "execution_count": 38,
     "metadata": {},
     "output_type": "execute_result"
    },
    {
     "data": {
      "image/png": "[encoded data removed]",
      "text/plain": [
       "<Figure size 432x288 with 1 Axes>"
      ]
     },
     "metadata": {
      "needs_background": "light"
     },
     "output_type": "display_data"
    },
    {
     "data": {
      "image/png": "[encoded data removed]",
      "text/plain": [
       "<Figure size 432x288 with 1 Axes>"
      ]
     },
     "metadata": {
      "needs_background": "light"
     },
     "output_type": "display_data"
    }
   ],
   "source": [
    "influence = OLSInfluence(m1)\n",
    "plt.scatter(np.log(data['weight']),influence.resid)\n",
    "plt.title('Plot of Residual')\n",
    "plt.xlabel('log(weight)')\n",
    "plt.ylabel('Residual')\n",
    "\n",
    "sm.qqplot(influence.resid)\n",
    "plt.title('Normal Probablity plot')\n",
    "plt.ylabel('Residual')"
   ]
  },
  {
   "cell_type": "markdown",
   "metadata": {},
   "source": [
    "# Part 2: Multiple Linear Regression\n",
    "\n",
    "To start with a multiple linear regression, we include 3 predictors variables that we think have effects on predicting mpg which are:\n",
    "\n",
    "- weight\n",
    "- horsepower\n",
    "- displacement"
   ]
  },
  {
   "cell_type": "code",
   "execution_count": 39,
   "metadata": {},
   "outputs": [
    {
     "data": {
      "text/html": [
       "<table class=\"simpletable\">\n",
       "<caption>OLS Regression Results</caption>\n",
       "<tr>\n",
       "  <th>Dep. Variable:</th>           <td>mpg</td>       <th>  R-squared:         </th> <td>   0.707</td> \n",
       "</tr>\n",
       "<tr>\n",
       "  <th>Model:</th>                   <td>OLS</td>       <th>  Adj. R-squared:    </th> <td>   0.705</td> \n",
       "</tr>\n",
       "<tr>\n",
       "  <th>Method:</th>             <td>Least Squares</td>  <th>  F-statistic:       </th> <td>   312.0</td> \n",
       "</tr>\n",
       "<tr>\n",
       "  <th>Date:</th>             <td>Fri, 04 Jun 2021</td> <th>  Prob (F-statistic):</th> <td>5.10e-103</td>\n",
       "</tr>\n",
       "<tr>\n",
       "  <th>Time:</th>                 <td>16:49:47</td>     <th>  Log-Likelihood:    </th> <td> -1120.6</td> \n",
       "</tr>\n",
       "<tr>\n",
       "  <th>No. Observations:</th>      <td>   392</td>      <th>  AIC:               </th> <td>   2249.</td> \n",
       "</tr>\n",
       "<tr>\n",
       "  <th>Df Residuals:</th>          <td>   388</td>      <th>  BIC:               </th> <td>   2265.</td> \n",
       "</tr>\n",
       "<tr>\n",
       "  <th>Df Model:</th>              <td>     3</td>      <th>                     </th>     <td> </td>    \n",
       "</tr>\n",
       "<tr>\n",
       "  <th>Covariance Type:</th>      <td>nonrobust</td>    <th>                     </th>     <td> </td>    \n",
       "</tr>\n",
       "</table>\n",
       "<table class=\"simpletable\">\n",
       "<tr>\n",
       "        <td></td>          <th>coef</th>     <th>std err</th>      <th>t</th>      <th>P>|t|</th>  <th>[0.025</th>    <th>0.975]</th>  \n",
       "</tr>\n",
       "<tr>\n",
       "  <th>Intercept</th>    <td>   44.8559</td> <td>    1.196</td> <td>   37.507</td> <td> 0.000</td> <td>   42.505</td> <td>   47.207</td>\n",
       "</tr>\n",
       "<tr>\n",
       "  <th>weight</th>       <td>   -0.0054</td> <td>    0.001</td> <td>   -7.513</td> <td> 0.000</td> <td>   -0.007</td> <td>   -0.004</td>\n",
       "</tr>\n",
       "<tr>\n",
       "  <th>horsepower</th>   <td>   -0.0417</td> <td>    0.013</td> <td>   -3.252</td> <td> 0.001</td> <td>   -0.067</td> <td>   -0.016</td>\n",
       "</tr>\n",
       "<tr>\n",
       "  <th>displacement</th> <td>   -0.0058</td> <td>    0.007</td> <td>   -0.876</td> <td> 0.381</td> <td>   -0.019</td> <td>    0.007</td>\n",
       "</tr>\n",
       "</table>\n",
       "<table class=\"simpletable\">\n",
       "<tr>\n",
       "  <th>Omnibus:</th>       <td>37.603</td> <th>  Durbin-Watson:     </th> <td>   0.859</td>\n",
       "</tr>\n",
       "<tr>\n",
       "  <th>Prob(Omnibus):</th> <td> 0.000</td> <th>  Jarque-Bera (JB):  </th> <td>  49.946</td>\n",
       "</tr>\n",
       "<tr>\n",
       "  <th>Skew:</th>          <td> 0.707</td> <th>  Prob(JB):          </th> <td>1.43e-11</td>\n",
       "</tr>\n",
       "<tr>\n",
       "  <th>Kurtosis:</th>      <td> 4.029</td> <th>  Cond. No.          </th> <td>1.73e+04</td>\n",
       "</tr>\n",
       "</table><br/><br/>Notes:<br/>[1] Standard Errors assume that the covariance matrix of the errors is correctly specified.<br/>[2] The condition number is large, 1.73e+04. This might indicate that there are<br/>strong multicollinearity or other numerical problems."
      ],
      "text/plain": [
       "<class 'statsmodels.iolib.summary.Summary'>\n",
       "\"\"\"\n",
       "                            OLS Regression Results                            \n",
       "==============================================================================\n",
       "Dep. Variable:                    mpg   R-squared:                       0.707\n",
       "Model:                            OLS   Adj. R-squared:                  0.705\n",
       "Method:                 Least Squares   F-statistic:                     312.0\n",
       "Date:                Fri, 04 Jun 2021   Prob (F-statistic):          5.10e-103\n",
       "Time:                        16:49:47   Log-Likelihood:                -1120.6\n",
       "No. Observations:                 392   AIC:                             2249.\n",
       "Df Residuals:                     388   BIC:                             2265.\n",
       "Df Model:                           3                                         \n",
       "Covariance Type:            nonrobust                                         \n",
       "================================================================================\n",
       "                   coef    std err          t      P>|t|      [0.025      0.975]\n",
       "--------------------------------------------------------------------------------\n",
       "Intercept       44.8559      1.196     37.507      0.000      42.505      47.207\n",
       "weight          -0.0054      0.001     -7.513      0.000      -0.007      -0.004\n",
       "horsepower      -0.0417      0.013     -3.252      0.001      -0.067      -0.016\n",
       "displacement    -0.0058      0.007     -0.876      0.381      -0.019       0.007\n",
       "==============================================================================\n",
       "Omnibus:                       37.603   Durbin-Watson:                   0.859\n",
       "Prob(Omnibus):                  0.000   Jarque-Bera (JB):               49.946\n",
       "Skew:                           0.707   Prob(JB):                     1.43e-11\n",
       "Kurtosis:                       4.029   Cond. No.                     1.73e+04\n",
       "==============================================================================\n",
       "\n",
       "Notes:\n",
       "[1] Standard Errors assume that the covariance matrix of the errors is correctly specified.\n",
       "[2] The condition number is large, 1.73e+04. This might indicate that there are\n",
       "strong multicollinearity or other numerical problems.\n",
       "\"\"\""
      ]
     },
     "execution_count": 39,
     "metadata": {},
     "output_type": "execute_result"
    }
   ],
   "source": [
    "m2=smf.ols('mpg ~ weight + horsepower + displacement',data=data).fit()\n",
    "m2.summary()"
   ]
  },
  {
   "cell_type": "markdown",
   "metadata": {},
   "source": [
    "# ANOVA Table\n",
    "\n",
    "To understand the variations, we create an ANOVA (Analysis of Variance) table to get SSR (Sum of Squared Regression) and SSE (Sum of Squared Error).\n",
    "\n",
    "- SSR represents the portion of variation accounted by the model.\n",
    "- SSE represents the portion of variation remains in residual which lead to the model produce a less precise prediction."
   ]
  },
  {
   "cell_type": "code",
   "execution_count": 42,
   "metadata": {},
   "outputs": [
    {
     "name": "stdout",
     "output_type": "stream",
     "text": [
      "SSR:0.7069554693444707\n",
      "SSE:0.2930445306555293\n"
     ]
    }
   ],
   "source": [
    "table1 = sm.stats.anova_lm(m2)\n",
    "SSR=np.sum(table1['sum_sq'][:-1])\n",
    "SSE=table1['sum_sq'][-1]\n",
    "SST=SSR+SSE\n",
    "\n",
    "print(f'SSR:{SSR/SST}')\n",
    "print(f'SSE:{SSE/SST}')"
   ]
  },
  {
   "cell_type": "markdown",
   "metadata": {},
   "source": [
    "# Variance Inflation Factor\n",
    "\n",
    "VIF (Variance Inflation Factor) is used to determine multicollinearity between independent variables.\n",
    "Large VIF means that there exists strong correlation between 2 predictor variables."
   ]
  },
  {
   "cell_type": "code",
   "execution_count": 44,
   "metadata": {},
   "outputs": [
    {
     "data": {
      "text/html": [
       "<div>\n",
       "<style scoped>\n",
       "    .dataframe tbody tr th:only-of-type {\n",
       "        vertical-align: middle;\n",
       "    }\n",
       "\n",
       "    .dataframe tbody tr th {\n",
       "        vertical-align: top;\n",
       "    }\n",
       "\n",
       "    .dataframe thead th {\n",
       "        text-align: right;\n",
       "    }\n",
       "</style>\n",
       "<table border=\"1\" class=\"dataframe\">\n",
       "  <thead>\n",
       "    <tr style=\"text-align: right;\">\n",
       "      <th></th>\n",
       "      <th>variables</th>\n",
       "      <th>VIF</th>\n",
       "    </tr>\n",
       "  </thead>\n",
       "  <tbody>\n",
       "    <tr>\n",
       "      <th>0</th>\n",
       "      <td>weight</td>\n",
       "      <td>34.350408</td>\n",
       "    </tr>\n",
       "    <tr>\n",
       "      <th>1</th>\n",
       "      <td>horsepower</td>\n",
       "      <td>40.927586</td>\n",
       "    </tr>\n",
       "    <tr>\n",
       "      <th>2</th>\n",
       "      <td>displacement</td>\n",
       "      <td>20.242817</td>\n",
       "    </tr>\n",
       "  </tbody>\n",
       "</table>\n",
       "</div>"
      ],
      "text/plain": [
       "      variables        VIF\n",
       "0        weight  34.350408\n",
       "1    horsepower  40.927586\n",
       "2  displacement  20.242817"
      ]
     },
     "execution_count": 44,
     "metadata": {},
     "output_type": "execute_result"
    }
   ],
   "source": [
    "X=data[['weight','horsepower','displacement']]\n",
    "VIF_df=pd.DataFrame(list(zip(['weight','horsepower','displacement'],\n",
    "                      [vif(X.values,i) for i in range(len(X.columns))])),columns=['variables','VIF'])\n",
    "VIF_df"
   ]
  },
  {
   "cell_type": "markdown",
   "metadata": {},
   "source": [
    "# Backward Stepwise Regression\n",
    "\n"
   ]
  }
 ],
 "metadata": {
  "kernelspec": {
   "display_name": "Python 3",
   "language": "python",
   "name": "python3"
  },
  "language_info": {
   "codemirror_mode": {
    "name": "ipython",
    "version": 3
   },
   "file_extension": ".py",
   "mimetype": "text/x-python",
   "name": "python",
   "nbconvert_exporter": "python",
   "pygments_lexer": "ipython3",
   "version": "3.8.5"
  }
 },
 "nbformat": 4,
 "nbformat_minor": 4
}
